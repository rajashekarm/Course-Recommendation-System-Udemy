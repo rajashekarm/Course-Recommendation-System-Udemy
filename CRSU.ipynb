# Load EDA Pkgs
import pandas as pd
import neattext.functions as nfx
# Load ML/Rc Pkgs
from sklearn.feature_extraction.text import CountVectorizer,TfidfVectorizer
from sklearn.metrics.pairwise import cosine_similarity,linear_kernel
